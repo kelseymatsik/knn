{
  "cells": [
    {
      "cell_type": "markdown",
      "id": "f7ef20f0-722f-4240-8a79-437d4a3b8832",
      "metadata": {
        "id": "f7ef20f0-722f-4240-8a79-437d4a3b8832"
      },
      "source": [
        "## Assignment 3: $k$ Nearest Neighbor\n",
        "\n",
        "**Do two questions.**\n",
        "\n",
        "`! git clone https://github.com/DS3001/knn`"
      ]
    },
    {
      "cell_type": "code",
      "source": [
        "! git clone https://github.com/DS3001/knn"
      ],
      "metadata": {
        "colab": {
          "base_uri": "https://localhost:8080/"
        },
        "id": "uz9LHpa29ulC",
        "outputId": "a7a985b1-d856-48f7-b8d1-02c66c15a07f"
      },
      "id": "uz9LHpa29ulC",
      "execution_count": 1,
      "outputs": [
        {
          "output_type": "stream",
          "name": "stdout",
          "text": [
            "Cloning into 'knn'...\n",
            "remote: Enumerating objects: 40, done.\u001b[K\n",
            "remote: Counting objects: 100% (23/23), done.\u001b[K\n",
            "remote: Compressing objects: 100% (18/18), done.\u001b[K\n",
            "remote: Total 40 (delta 12), reused 12 (delta 5), pack-reused 17\u001b[K\n",
            "Receiving objects: 100% (40/40), 11.00 MiB | 12.78 MiB/s, done.\n",
            "Resolving deltas: 100% (12/12), done.\n"
          ]
        }
      ]
    },
    {
      "cell_type": "code",
      "source": [
        "import pandas as pd\n",
        "import numpy as np\n",
        "import seaborn as sns\n",
        "import matplotlib.pyplot as plt"
      ],
      "metadata": {
        "id": "NBEARTMa9yl4"
      },
      "id": "NBEARTMa9yl4",
      "execution_count": 2,
      "outputs": []
    },
    {
      "cell_type": "markdown",
      "id": "71c9e0b8-17f5-4ff9-9c76-2034bffe8d5c",
      "metadata": {
        "id": "71c9e0b8-17f5-4ff9-9c76-2034bffe8d5c"
      },
      "source": [
        "**Q1.** This question is a case study for $k$ nearest neighbor The target variable `y` is `price` and the features are `year` and `mileage`.\n",
        "\n",
        "1. Load the `./data/USA_cars_datasets.csv`. Keep the following variables and drop the rest: `price`, `year`, `mileage`. Are there any `NA`'s to handle? Look at the head and dimensions of the data.\n",
        "2. Maxmin normalize `year` and `mileage`.\n",
        "3. Split the sample into ~80% for training and ~20% for evaluation.\n",
        "4. Use the $k$NN algorithm and the training data to predict `price` using `year` and `mileage` for the test set for $k=3,10,25,50,100,300$. For each value of $k$, compute the mean squared error and print a scatterplot showing the test value plotted against the predicted value. What patterns do you notice as you increase $k$?\n",
        "5. Determine the optimal $k$ for these data.\n",
        "6. Describe what happened in the plots of predicted versus actual prices as $k$ varied, taking your answer into part 6 into account. (Hint: Use the words \"underfitting\" and \"overfitting\".)"
      ]
    },
    {
      "cell_type": "markdown",
      "id": "010b57f7-bf4f-4494-b54c-49c4f3ae3ab9",
      "metadata": {
        "id": "010b57f7-bf4f-4494-b54c-49c4f3ae3ab9"
      },
      "source": [
        "**Q2.** This question is a case study for $k$ nearest neighbor. The data for the question include:\n",
        "\n",
        "- age: age of the patient (years)\n",
        "- anaemia: decrease of red blood cells or hemoglobin (boolean)\n",
        "- high blood pressure: if the patient has hypertension (boolean)\n",
        "- creatinine phosphokinase (CPK): level of the CPK enzyme in the blood (mcg/L)\n",
        "- diabetes: if the patient has diabetes (boolean)\n",
        "- ejection fraction: percentage of blood leaving the heart at each contraction (percentage)\n",
        "- platelets: platelets in the blood (kiloplatelets/mL)\n",
        "- sex: woman or man (binary)\n",
        "- serum creatinine: level of serum creatinine in the blood (mg/dL)\n",
        "- serum sodium: level of serum sodium in the blood (mEq/L)\n",
        "- smoking: if the patient smokes or not (boolean)\n",
        "- time: follow-up period (days)\n",
        "- death event: if the patient deceased during the follow-up period (boolean)\n",
        "\n",
        "1. Load the `./data/heart_failure_clinical_records_dataset.csv`. Are there any `NA`'s to handle? use `.drop()` to remove `time` from the dataframe.\n",
        "\n",
        "7. Determine the optimal number of neighbors for a $k$NN regression for the variables you selected.\n",
        "8. OK, do steps 5 through 7 again, but use all of the variables (except `time`). Which model has a lower Sum of Squared Error? Which would you prefer to use in practice, if you had to predict `DEATH_EVENT`s? If you play with the selection of variables, how much does the SSE change for your fitted model on the test data? Are more variables always better? Explain your findings."
      ]
    },
    {
      "cell_type": "code",
      "source": [
        "df = pd.read_csv(\"./knn/data/heart_failure_clinical_records_dataset.csv\")\n",
        "\n",
        "df = df.drop(columns=[\"time\"])\n",
        "df.isna().sum()\n",
        "# There does not appear to be any NAs in this dataset"
      ],
      "metadata": {
        "colab": {
          "base_uri": "https://localhost:8080/"
        },
        "id": "fBYYPz2m-GJK",
        "outputId": "7a9d404b-97bf-4bc0-dbe5-aaea7be5591e"
      },
      "id": "fBYYPz2m-GJK",
      "execution_count": 9,
      "outputs": [
        {
          "output_type": "execute_result",
          "data": {
            "text/plain": [
              "age                         0\n",
              "anaemia                     0\n",
              "creatinine_phosphokinase    0\n",
              "diabetes                    0\n",
              "ejection_fraction           0\n",
              "high_blood_pressure         0\n",
              "platelets                   0\n",
              "serum_creatinine            0\n",
              "serum_sodium                0\n",
              "sex                         0\n",
              "smoking                     0\n",
              "DEATH_EVENT                 0\n",
              "dtype: int64"
            ]
          },
          "metadata": {},
          "execution_count": 9
        }
      ]
    },
    {
      "cell_type": "markdown",
      "source": [
        "2. Make a correlation matrix. What variables are strongly associated with a death event?"
      ],
      "metadata": {
        "id": "MLlxKA_NsD8f"
      },
      "id": "MLlxKA_NsD8f"
    },
    {
      "cell_type": "code",
      "source": [
        "# Reordering columns so 'DEATH_EVENT' appears first\n",
        "df = df.rename(columns={'DEATH_EVENT':'death_event'})\n",
        "df = df[['death_event', 'age', 'anaemia', 'creatinine_phosphokinase', 'diabetes',\n",
        "       'ejection_fraction', 'high_blood_pressure', 'platelets',\n",
        "       'serum_creatinine', 'serum_sodium', 'sex', 'smoking']]\n",
        "\n",
        "correlation_matrix = df.corr()\n",
        "correlation_matrix\n",
        "# Age, ejection fraction, serum creatinine, and serum sodium are the most strongly\n",
        "# correlated with death event."
      ],
      "metadata": {
        "colab": {
          "base_uri": "https://localhost:8080/",
          "height": 517
        },
        "id": "C03sBW1K-3Pk",
        "outputId": "e467afa4-6678-4419-d900-5c67804bc3ec"
      },
      "id": "C03sBW1K-3Pk",
      "execution_count": 13,
      "outputs": [
        {
          "output_type": "stream",
          "name": "stdout",
          "text": [
            "Index(['age', 'anaemia', 'creatinine_phosphokinase', 'diabetes',\n",
            "       'ejection_fraction', 'high_blood_pressure', 'platelets',\n",
            "       'serum_creatinine', 'serum_sodium', 'sex', 'smoking', 'DEATH_EVENT'],\n",
            "      dtype='object')\n"
          ]
        },
        {
          "output_type": "execute_result",
          "data": {
            "text/plain": [
              "                          death_event       age   anaemia  \\\n",
              "death_event                  1.000000  0.253729  0.066270   \n",
              "age                          0.253729  1.000000  0.088006   \n",
              "anaemia                      0.066270  0.088006  1.000000   \n",
              "creatinine_phosphokinase     0.062728 -0.081584 -0.190741   \n",
              "diabetes                    -0.001943 -0.101012 -0.012729   \n",
              "ejection_fraction           -0.268603  0.060098  0.031557   \n",
              "high_blood_pressure          0.079351  0.093289  0.038182   \n",
              "platelets                   -0.049139 -0.052354 -0.043786   \n",
              "serum_creatinine             0.294278  0.159187  0.052174   \n",
              "serum_sodium                -0.195204 -0.045966  0.041882   \n",
              "sex                         -0.004316  0.065430 -0.094769   \n",
              "smoking                     -0.012623  0.018668 -0.107290   \n",
              "\n",
              "                          creatinine_phosphokinase  diabetes  \\\n",
              "death_event                               0.062728 -0.001943   \n",
              "age                                      -0.081584 -0.101012   \n",
              "anaemia                                  -0.190741 -0.012729   \n",
              "creatinine_phosphokinase                  1.000000 -0.009639   \n",
              "diabetes                                 -0.009639  1.000000   \n",
              "ejection_fraction                        -0.044080 -0.004850   \n",
              "high_blood_pressure                      -0.070590 -0.012732   \n",
              "platelets                                 0.024463  0.092193   \n",
              "serum_creatinine                         -0.016408 -0.046975   \n",
              "serum_sodium                              0.059550 -0.089551   \n",
              "sex                                       0.079791 -0.157730   \n",
              "smoking                                   0.002421 -0.147173   \n",
              "\n",
              "                          ejection_fraction  high_blood_pressure  platelets  \\\n",
              "death_event                       -0.268603             0.079351  -0.049139   \n",
              "age                                0.060098             0.093289  -0.052354   \n",
              "anaemia                            0.031557             0.038182  -0.043786   \n",
              "creatinine_phosphokinase          -0.044080            -0.070590   0.024463   \n",
              "diabetes                          -0.004850            -0.012732   0.092193   \n",
              "ejection_fraction                  1.000000             0.024445   0.072177   \n",
              "high_blood_pressure                0.024445             1.000000   0.049963   \n",
              "platelets                          0.072177             0.049963   1.000000   \n",
              "serum_creatinine                  -0.011302            -0.004935  -0.041198   \n",
              "serum_sodium                       0.175902             0.037109   0.062125   \n",
              "sex                               -0.148386            -0.104615  -0.125120   \n",
              "smoking                           -0.067315            -0.055711   0.028234   \n",
              "\n",
              "                          serum_creatinine  serum_sodium       sex   smoking  \n",
              "death_event                       0.294278     -0.195204 -0.004316 -0.012623  \n",
              "age                               0.159187     -0.045966  0.065430  0.018668  \n",
              "anaemia                           0.052174      0.041882 -0.094769 -0.107290  \n",
              "creatinine_phosphokinase         -0.016408      0.059550  0.079791  0.002421  \n",
              "diabetes                         -0.046975     -0.089551 -0.157730 -0.147173  \n",
              "ejection_fraction                -0.011302      0.175902 -0.148386 -0.067315  \n",
              "high_blood_pressure              -0.004935      0.037109 -0.104615 -0.055711  \n",
              "platelets                        -0.041198      0.062125 -0.125120  0.028234  \n",
              "serum_creatinine                  1.000000     -0.189095  0.006970 -0.027414  \n",
              "serum_sodium                     -0.189095      1.000000 -0.027566  0.004813  \n",
              "sex                               0.006970     -0.027566  1.000000  0.445892  \n",
              "smoking                          -0.027414      0.004813  0.445892  1.000000  "
            ],
            "text/html": [
              "\n",
              "  <div id=\"df-805d57e5-6d07-4ce2-addc-2466c9c8da1d\" class=\"colab-df-container\">\n",
              "    <div>\n",
              "<style scoped>\n",
              "    .dataframe tbody tr th:only-of-type {\n",
              "        vertical-align: middle;\n",
              "    }\n",
              "\n",
              "    .dataframe tbody tr th {\n",
              "        vertical-align: top;\n",
              "    }\n",
              "\n",
              "    .dataframe thead th {\n",
              "        text-align: right;\n",
              "    }\n",
              "</style>\n",
              "<table border=\"1\" class=\"dataframe\">\n",
              "  <thead>\n",
              "    <tr style=\"text-align: right;\">\n",
              "      <th></th>\n",
              "      <th>death_event</th>\n",
              "      <th>age</th>\n",
              "      <th>anaemia</th>\n",
              "      <th>creatinine_phosphokinase</th>\n",
              "      <th>diabetes</th>\n",
              "      <th>ejection_fraction</th>\n",
              "      <th>high_blood_pressure</th>\n",
              "      <th>platelets</th>\n",
              "      <th>serum_creatinine</th>\n",
              "      <th>serum_sodium</th>\n",
              "      <th>sex</th>\n",
              "      <th>smoking</th>\n",
              "    </tr>\n",
              "  </thead>\n",
              "  <tbody>\n",
              "    <tr>\n",
              "      <th>death_event</th>\n",
              "      <td>1.000000</td>\n",
              "      <td>0.253729</td>\n",
              "      <td>0.066270</td>\n",
              "      <td>0.062728</td>\n",
              "      <td>-0.001943</td>\n",
              "      <td>-0.268603</td>\n",
              "      <td>0.079351</td>\n",
              "      <td>-0.049139</td>\n",
              "      <td>0.294278</td>\n",
              "      <td>-0.195204</td>\n",
              "      <td>-0.004316</td>\n",
              "      <td>-0.012623</td>\n",
              "    </tr>\n",
              "    <tr>\n",
              "      <th>age</th>\n",
              "      <td>0.253729</td>\n",
              "      <td>1.000000</td>\n",
              "      <td>0.088006</td>\n",
              "      <td>-0.081584</td>\n",
              "      <td>-0.101012</td>\n",
              "      <td>0.060098</td>\n",
              "      <td>0.093289</td>\n",
              "      <td>-0.052354</td>\n",
              "      <td>0.159187</td>\n",
              "      <td>-0.045966</td>\n",
              "      <td>0.065430</td>\n",
              "      <td>0.018668</td>\n",
              "    </tr>\n",
              "    <tr>\n",
              "      <th>anaemia</th>\n",
              "      <td>0.066270</td>\n",
              "      <td>0.088006</td>\n",
              "      <td>1.000000</td>\n",
              "      <td>-0.190741</td>\n",
              "      <td>-0.012729</td>\n",
              "      <td>0.031557</td>\n",
              "      <td>0.038182</td>\n",
              "      <td>-0.043786</td>\n",
              "      <td>0.052174</td>\n",
              "      <td>0.041882</td>\n",
              "      <td>-0.094769</td>\n",
              "      <td>-0.107290</td>\n",
              "    </tr>\n",
              "    <tr>\n",
              "      <th>creatinine_phosphokinase</th>\n",
              "      <td>0.062728</td>\n",
              "      <td>-0.081584</td>\n",
              "      <td>-0.190741</td>\n",
              "      <td>1.000000</td>\n",
              "      <td>-0.009639</td>\n",
              "      <td>-0.044080</td>\n",
              "      <td>-0.070590</td>\n",
              "      <td>0.024463</td>\n",
              "      <td>-0.016408</td>\n",
              "      <td>0.059550</td>\n",
              "      <td>0.079791</td>\n",
              "      <td>0.002421</td>\n",
              "    </tr>\n",
              "    <tr>\n",
              "      <th>diabetes</th>\n",
              "      <td>-0.001943</td>\n",
              "      <td>-0.101012</td>\n",
              "      <td>-0.012729</td>\n",
              "      <td>-0.009639</td>\n",
              "      <td>1.000000</td>\n",
              "      <td>-0.004850</td>\n",
              "      <td>-0.012732</td>\n",
              "      <td>0.092193</td>\n",
              "      <td>-0.046975</td>\n",
              "      <td>-0.089551</td>\n",
              "      <td>-0.157730</td>\n",
              "      <td>-0.147173</td>\n",
              "    </tr>\n",
              "    <tr>\n",
              "      <th>ejection_fraction</th>\n",
              "      <td>-0.268603</td>\n",
              "      <td>0.060098</td>\n",
              "      <td>0.031557</td>\n",
              "      <td>-0.044080</td>\n",
              "      <td>-0.004850</td>\n",
              "      <td>1.000000</td>\n",
              "      <td>0.024445</td>\n",
              "      <td>0.072177</td>\n",
              "      <td>-0.011302</td>\n",
              "      <td>0.175902</td>\n",
              "      <td>-0.148386</td>\n",
              "      <td>-0.067315</td>\n",
              "    </tr>\n",
              "    <tr>\n",
              "      <th>high_blood_pressure</th>\n",
              "      <td>0.079351</td>\n",
              "      <td>0.093289</td>\n",
              "      <td>0.038182</td>\n",
              "      <td>-0.070590</td>\n",
              "      <td>-0.012732</td>\n",
              "      <td>0.024445</td>\n",
              "      <td>1.000000</td>\n",
              "      <td>0.049963</td>\n",
              "      <td>-0.004935</td>\n",
              "      <td>0.037109</td>\n",
              "      <td>-0.104615</td>\n",
              "      <td>-0.055711</td>\n",
              "    </tr>\n",
              "    <tr>\n",
              "      <th>platelets</th>\n",
              "      <td>-0.049139</td>\n",
              "      <td>-0.052354</td>\n",
              "      <td>-0.043786</td>\n",
              "      <td>0.024463</td>\n",
              "      <td>0.092193</td>\n",
              "      <td>0.072177</td>\n",
              "      <td>0.049963</td>\n",
              "      <td>1.000000</td>\n",
              "      <td>-0.041198</td>\n",
              "      <td>0.062125</td>\n",
              "      <td>-0.125120</td>\n",
              "      <td>0.028234</td>\n",
              "    </tr>\n",
              "    <tr>\n",
              "      <th>serum_creatinine</th>\n",
              "      <td>0.294278</td>\n",
              "      <td>0.159187</td>\n",
              "      <td>0.052174</td>\n",
              "      <td>-0.016408</td>\n",
              "      <td>-0.046975</td>\n",
              "      <td>-0.011302</td>\n",
              "      <td>-0.004935</td>\n",
              "      <td>-0.041198</td>\n",
              "      <td>1.000000</td>\n",
              "      <td>-0.189095</td>\n",
              "      <td>0.006970</td>\n",
              "      <td>-0.027414</td>\n",
              "    </tr>\n",
              "    <tr>\n",
              "      <th>serum_sodium</th>\n",
              "      <td>-0.195204</td>\n",
              "      <td>-0.045966</td>\n",
              "      <td>0.041882</td>\n",
              "      <td>0.059550</td>\n",
              "      <td>-0.089551</td>\n",
              "      <td>0.175902</td>\n",
              "      <td>0.037109</td>\n",
              "      <td>0.062125</td>\n",
              "      <td>-0.189095</td>\n",
              "      <td>1.000000</td>\n",
              "      <td>-0.027566</td>\n",
              "      <td>0.004813</td>\n",
              "    </tr>\n",
              "    <tr>\n",
              "      <th>sex</th>\n",
              "      <td>-0.004316</td>\n",
              "      <td>0.065430</td>\n",
              "      <td>-0.094769</td>\n",
              "      <td>0.079791</td>\n",
              "      <td>-0.157730</td>\n",
              "      <td>-0.148386</td>\n",
              "      <td>-0.104615</td>\n",
              "      <td>-0.125120</td>\n",
              "      <td>0.006970</td>\n",
              "      <td>-0.027566</td>\n",
              "      <td>1.000000</td>\n",
              "      <td>0.445892</td>\n",
              "    </tr>\n",
              "    <tr>\n",
              "      <th>smoking</th>\n",
              "      <td>-0.012623</td>\n",
              "      <td>0.018668</td>\n",
              "      <td>-0.107290</td>\n",
              "      <td>0.002421</td>\n",
              "      <td>-0.147173</td>\n",
              "      <td>-0.067315</td>\n",
              "      <td>-0.055711</td>\n",
              "      <td>0.028234</td>\n",
              "      <td>-0.027414</td>\n",
              "      <td>0.004813</td>\n",
              "      <td>0.445892</td>\n",
              "      <td>1.000000</td>\n",
              "    </tr>\n",
              "  </tbody>\n",
              "</table>\n",
              "</div>\n",
              "    <div class=\"colab-df-buttons\">\n",
              "\n",
              "  <div class=\"colab-df-container\">\n",
              "    <button class=\"colab-df-convert\" onclick=\"convertToInteractive('df-805d57e5-6d07-4ce2-addc-2466c9c8da1d')\"\n",
              "            title=\"Convert this dataframe to an interactive table.\"\n",
              "            style=\"display:none;\">\n",
              "\n",
              "  <svg xmlns=\"http://www.w3.org/2000/svg\" height=\"24px\" viewBox=\"0 -960 960 960\">\n",
              "    <path d=\"M120-120v-720h720v720H120Zm60-500h600v-160H180v160Zm220 220h160v-160H400v160Zm0 220h160v-160H400v160ZM180-400h160v-160H180v160Zm440 0h160v-160H620v160ZM180-180h160v-160H180v160Zm440 0h160v-160H620v160Z\"/>\n",
              "  </svg>\n",
              "    </button>\n",
              "\n",
              "  <style>\n",
              "    .colab-df-container {\n",
              "      display:flex;\n",
              "      gap: 12px;\n",
              "    }\n",
              "\n",
              "    .colab-df-convert {\n",
              "      background-color: #E8F0FE;\n",
              "      border: none;\n",
              "      border-radius: 50%;\n",
              "      cursor: pointer;\n",
              "      display: none;\n",
              "      fill: #1967D2;\n",
              "      height: 32px;\n",
              "      padding: 0 0 0 0;\n",
              "      width: 32px;\n",
              "    }\n",
              "\n",
              "    .colab-df-convert:hover {\n",
              "      background-color: #E2EBFA;\n",
              "      box-shadow: 0px 1px 2px rgba(60, 64, 67, 0.3), 0px 1px 3px 1px rgba(60, 64, 67, 0.15);\n",
              "      fill: #174EA6;\n",
              "    }\n",
              "\n",
              "    .colab-df-buttons div {\n",
              "      margin-bottom: 4px;\n",
              "    }\n",
              "\n",
              "    [theme=dark] .colab-df-convert {\n",
              "      background-color: #3B4455;\n",
              "      fill: #D2E3FC;\n",
              "    }\n",
              "\n",
              "    [theme=dark] .colab-df-convert:hover {\n",
              "      background-color: #434B5C;\n",
              "      box-shadow: 0px 1px 3px 1px rgba(0, 0, 0, 0.15);\n",
              "      filter: drop-shadow(0px 1px 2px rgba(0, 0, 0, 0.3));\n",
              "      fill: #FFFFFF;\n",
              "    }\n",
              "  </style>\n",
              "\n",
              "    <script>\n",
              "      const buttonEl =\n",
              "        document.querySelector('#df-805d57e5-6d07-4ce2-addc-2466c9c8da1d button.colab-df-convert');\n",
              "      buttonEl.style.display =\n",
              "        google.colab.kernel.accessAllowed ? 'block' : 'none';\n",
              "\n",
              "      async function convertToInteractive(key) {\n",
              "        const element = document.querySelector('#df-805d57e5-6d07-4ce2-addc-2466c9c8da1d');\n",
              "        const dataTable =\n",
              "          await google.colab.kernel.invokeFunction('convertToInteractive',\n",
              "                                                    [key], {});\n",
              "        if (!dataTable) return;\n",
              "\n",
              "        const docLinkHtml = 'Like what you see? Visit the ' +\n",
              "          '<a target=\"_blank\" href=https://colab.research.google.com/notebooks/data_table.ipynb>data table notebook</a>'\n",
              "          + ' to learn more about interactive tables.';\n",
              "        element.innerHTML = '';\n",
              "        dataTable['output_type'] = 'display_data';\n",
              "        await google.colab.output.renderOutput(dataTable, element);\n",
              "        const docLink = document.createElement('div');\n",
              "        docLink.innerHTML = docLinkHtml;\n",
              "        element.appendChild(docLink);\n",
              "      }\n",
              "    </script>\n",
              "  </div>\n",
              "\n",
              "\n",
              "<div id=\"df-83116d42-beec-4d49-b974-124913f8d036\">\n",
              "  <button class=\"colab-df-quickchart\" onclick=\"quickchart('df-83116d42-beec-4d49-b974-124913f8d036')\"\n",
              "            title=\"Suggest charts\"\n",
              "            style=\"display:none;\">\n",
              "\n",
              "<svg xmlns=\"http://www.w3.org/2000/svg\" height=\"24px\"viewBox=\"0 0 24 24\"\n",
              "     width=\"24px\">\n",
              "    <g>\n",
              "        <path d=\"M19 3H5c-1.1 0-2 .9-2 2v14c0 1.1.9 2 2 2h14c1.1 0 2-.9 2-2V5c0-1.1-.9-2-2-2zM9 17H7v-7h2v7zm4 0h-2V7h2v10zm4 0h-2v-4h2v4z\"/>\n",
              "    </g>\n",
              "</svg>\n",
              "  </button>\n",
              "\n",
              "<style>\n",
              "  .colab-df-quickchart {\n",
              "      --bg-color: #E8F0FE;\n",
              "      --fill-color: #1967D2;\n",
              "      --hover-bg-color: #E2EBFA;\n",
              "      --hover-fill-color: #174EA6;\n",
              "      --disabled-fill-color: #AAA;\n",
              "      --disabled-bg-color: #DDD;\n",
              "  }\n",
              "\n",
              "  [theme=dark] .colab-df-quickchart {\n",
              "      --bg-color: #3B4455;\n",
              "      --fill-color: #D2E3FC;\n",
              "      --hover-bg-color: #434B5C;\n",
              "      --hover-fill-color: #FFFFFF;\n",
              "      --disabled-bg-color: #3B4455;\n",
              "      --disabled-fill-color: #666;\n",
              "  }\n",
              "\n",
              "  .colab-df-quickchart {\n",
              "    background-color: var(--bg-color);\n",
              "    border: none;\n",
              "    border-radius: 50%;\n",
              "    cursor: pointer;\n",
              "    display: none;\n",
              "    fill: var(--fill-color);\n",
              "    height: 32px;\n",
              "    padding: 0;\n",
              "    width: 32px;\n",
              "  }\n",
              "\n",
              "  .colab-df-quickchart:hover {\n",
              "    background-color: var(--hover-bg-color);\n",
              "    box-shadow: 0 1px 2px rgba(60, 64, 67, 0.3), 0 1px 3px 1px rgba(60, 64, 67, 0.15);\n",
              "    fill: var(--button-hover-fill-color);\n",
              "  }\n",
              "\n",
              "  .colab-df-quickchart-complete:disabled,\n",
              "  .colab-df-quickchart-complete:disabled:hover {\n",
              "    background-color: var(--disabled-bg-color);\n",
              "    fill: var(--disabled-fill-color);\n",
              "    box-shadow: none;\n",
              "  }\n",
              "\n",
              "  .colab-df-spinner {\n",
              "    border: 2px solid var(--fill-color);\n",
              "    border-color: transparent;\n",
              "    border-bottom-color: var(--fill-color);\n",
              "    animation:\n",
              "      spin 1s steps(1) infinite;\n",
              "  }\n",
              "\n",
              "  @keyframes spin {\n",
              "    0% {\n",
              "      border-color: transparent;\n",
              "      border-bottom-color: var(--fill-color);\n",
              "      border-left-color: var(--fill-color);\n",
              "    }\n",
              "    20% {\n",
              "      border-color: transparent;\n",
              "      border-left-color: var(--fill-color);\n",
              "      border-top-color: var(--fill-color);\n",
              "    }\n",
              "    30% {\n",
              "      border-color: transparent;\n",
              "      border-left-color: var(--fill-color);\n",
              "      border-top-color: var(--fill-color);\n",
              "      border-right-color: var(--fill-color);\n",
              "    }\n",
              "    40% {\n",
              "      border-color: transparent;\n",
              "      border-right-color: var(--fill-color);\n",
              "      border-top-color: var(--fill-color);\n",
              "    }\n",
              "    60% {\n",
              "      border-color: transparent;\n",
              "      border-right-color: var(--fill-color);\n",
              "    }\n",
              "    80% {\n",
              "      border-color: transparent;\n",
              "      border-right-color: var(--fill-color);\n",
              "      border-bottom-color: var(--fill-color);\n",
              "    }\n",
              "    90% {\n",
              "      border-color: transparent;\n",
              "      border-bottom-color: var(--fill-color);\n",
              "    }\n",
              "  }\n",
              "</style>\n",
              "\n",
              "  <script>\n",
              "    async function quickchart(key) {\n",
              "      const quickchartButtonEl =\n",
              "        document.querySelector('#' + key + ' button');\n",
              "      quickchartButtonEl.disabled = true;  // To prevent multiple clicks.\n",
              "      quickchartButtonEl.classList.add('colab-df-spinner');\n",
              "      try {\n",
              "        const charts = await google.colab.kernel.invokeFunction(\n",
              "            'suggestCharts', [key], {});\n",
              "      } catch (error) {\n",
              "        console.error('Error during call to suggestCharts:', error);\n",
              "      }\n",
              "      quickchartButtonEl.classList.remove('colab-df-spinner');\n",
              "      quickchartButtonEl.classList.add('colab-df-quickchart-complete');\n",
              "    }\n",
              "    (() => {\n",
              "      let quickchartButtonEl =\n",
              "        document.querySelector('#df-83116d42-beec-4d49-b974-124913f8d036 button');\n",
              "      quickchartButtonEl.style.display =\n",
              "        google.colab.kernel.accessAllowed ? 'block' : 'none';\n",
              "    })();\n",
              "  </script>\n",
              "</div>\n",
              "    </div>\n",
              "  </div>\n"
            ],
            "application/vnd.google.colaboratory.intrinsic+json": {
              "type": "dataframe",
              "variable_name": "correlation_matrix",
              "summary": "{\n  \"name\": \"correlation_matrix\",\n  \"rows\": 12,\n  \"fields\": [\n    {\n      \"column\": \"death_event\",\n      \"properties\": {\n        \"dtype\": \"number\",\n        \"std\": 0.32382565149580333,\n        \"min\": -0.2686033123940612,\n        \"max\": 1.0,\n        \"samples\": [\n          -0.004316376319703113,\n          -0.1952035964164019,\n          1.0\n        ],\n        \"num_unique_values\": 12,\n        \"semantic_type\": \"\",\n        \"description\": \"\"\n      }\n    },\n    {\n      \"column\": \"age\",\n      \"properties\": {\n        \"dtype\": \"number\",\n        \"std\": 0.2952807785489794,\n        \"min\": -0.10101238518196966,\n        \"max\": 1.0,\n        \"samples\": [\n          0.06542952364475427,\n          -0.045965840839560256,\n          0.25372854308800347\n        ],\n        \"num_unique_values\": 12,\n        \"semantic_type\": \"\",\n        \"description\": \"\"\n      }\n    },\n    {\n      \"column\": \"anaemia\",\n      \"properties\": {\n        \"dtype\": \"number\",\n        \"std\": 0.30378304725364297,\n        \"min\": -0.19074103020066285,\n        \"max\": 1.0,\n        \"samples\": [\n          -0.09476896093314953,\n          0.04188161029786256,\n          0.06627009846028793\n        ],\n        \"num_unique_values\": 12,\n        \"semantic_type\": \"\",\n        \"description\": \"\"\n      }\n    },\n    {\n      \"column\": \"creatinine_phosphokinase\",\n      \"properties\": {\n        \"dtype\": \"number\",\n        \"std\": 0.30291043147441227,\n        \"min\": -0.19074103020066285,\n        \"max\": 1.0,\n        \"samples\": [\n          0.07979062873290346,\n          0.059550155833725735,\n          0.06272816025237478\n        ],\n        \"num_unique_values\": 12,\n        \"semantic_type\": \"\",\n        \"description\": \"\"\n      }\n    },\n    {\n      \"column\": \"diabetes\",\n      \"properties\": {\n        \"dtype\": \"number\",\n        \"std\": 0.30960658551696546,\n        \"min\": -0.15772950433810978,\n        \"max\": 1.0,\n        \"samples\": [\n          -0.15772950433810978,\n          -0.0895506193058877,\n          -0.0019428833442033963\n        ],\n        \"num_unique_values\": 12,\n        \"semantic_type\": \"\",\n        \"description\": \"\"\n      }\n    },\n    {\n      \"column\": \"ejection_fraction\",\n      \"properties\": {\n        \"dtype\": \"number\",\n        \"std\": 0.31423260402253295,\n        \"min\": -0.2686033123940612,\n        \"max\": 1.0,\n        \"samples\": [\n          -0.14838596532635928,\n          0.1759022820079626,\n          -0.2686033123940612\n        ],\n        \"num_unique_values\": 12,\n        \"semantic_type\": \"\",\n        \"description\": \"\"\n      }\n    },\n    {\n      \"column\": \"high_blood_pressure\",\n      \"properties\": {\n        \"dtype\": \"number\",\n        \"std\": 0.29295767628781544,\n        \"min\": -0.10461462935689739,\n        \"max\": 1.0,\n        \"samples\": [\n          -0.10461462935689739,\n          0.037109469732183924,\n          0.07935105769128528\n        ],\n        \"num_unique_values\": 12,\n        \"semantic_type\": \"\",\n        \"description\": \"\"\n      }\n    },\n    {\n      \"column\": \"platelets\",\n      \"properties\": {\n        \"dtype\": \"number\",\n        \"std\": 0.2953580654739879,\n        \"min\": -0.12512048280918261,\n        \"max\": 1.0,\n        \"samples\": [\n          -0.12512048280918261,\n          0.06212461923840678,\n          -0.04913886798037408\n        ],\n        \"num_unique_values\": 12,\n        \"semantic_type\": \"\",\n        \"description\": \"\"\n      }\n    },\n    {\n      \"column\": \"serum_creatinine\",\n      \"properties\": {\n        \"dtype\": \"number\",\n        \"std\": 0.3075471024237243,\n        \"min\": -0.18909521009117405,\n        \"max\": 1.0,\n        \"samples\": [\n          0.006969778483151021,\n          -0.18909521009117405,\n          0.2942775609841492\n        ],\n        \"num_unique_values\": 12,\n        \"semantic_type\": \"\",\n        \"description\": \"\"\n      }\n    },\n    {\n      \"column\": \"serum_sodium\",\n      \"properties\": {\n        \"dtype\": \"number\",\n        \"std\": 0.311636758927629,\n        \"min\": -0.1952035964164019,\n        \"max\": 1.0,\n        \"samples\": [\n          -0.02756612272823605,\n          1.0,\n          -0.1952035964164019\n        ],\n        \"num_unique_values\": 12,\n        \"semantic_type\": \"\",\n        \"description\": \"\"\n      }\n    },\n    {\n      \"column\": \"sex\",\n      \"properties\": {\n        \"dtype\": \"number\",\n        \"std\": 0.3330068462856133,\n        \"min\": -0.15772950433810978,\n        \"max\": 1.0,\n        \"samples\": [\n          1.0,\n          -0.02756612272823605,\n          -0.004316376319703113\n        ],\n        \"num_unique_values\": 12,\n        \"semantic_type\": \"\",\n        \"description\": \"\"\n      }\n    },\n    {\n      \"column\": \"smoking\",\n      \"properties\": {\n        \"dtype\": \"number\",\n        \"std\": 0.32249880229806693,\n        \"min\": -0.1471734133234141,\n        \"max\": 1.0,\n        \"samples\": [\n          0.4458917119097906,\n          0.004813194662557512,\n          -0.012623152709359337\n        ],\n        \"num_unique_values\": 12,\n        \"semantic_type\": \"\",\n        \"description\": \"\"\n      }\n    }\n  ]\n}"
            }
          },
          "metadata": {},
          "execution_count": 13
        }
      ]
    },
    {
      "cell_type": "markdown",
      "source": [
        "3. For the dummy variables `anaemia`, `diabetes`, `high_blood_pressure`, `sex`, and `smoking`, compute a summary table of `DEATH_EVENT` grouped by the variable. For which variables does a higher proportion of the population die when the variable takes the value 1 rather than 0?"
      ],
      "metadata": {
        "id": "1u0NpVH9sA4T"
      },
      "id": "1u0NpVH9sA4T"
    },
    {
      "cell_type": "code",
      "source": [
        "print(df.loc[:, [ 'death_event', 'anaemia']].groupby(['anaemia']).describe())\n",
        "print(df.loc[:, ['diabetes', 'death_event']].groupby(['diabetes']).describe())\n",
        "print(df.loc[:, ['sex', 'death_event']].groupby(['sex']).describe())\n",
        "print(df.loc[:, ['high_blood_pressure', 'death_event']].groupby(['high_blood_pressure']).describe())\n",
        "print(df.loc[:, ['smoking', 'death_event']].groupby(['smoking']).describe())\n",
        "\n",
        "# Sex is the only variable which shows a higher proportion of death events"
      ],
      "metadata": {
        "colab": {
          "base_uri": "https://localhost:8080/"
        },
        "id": "00ghk4QTQjhI",
        "outputId": "19222573-cf6d-4a2d-a242-05beba19b103"
      },
      "id": "00ghk4QTQjhI",
      "execution_count": 29,
      "outputs": [
        {
          "output_type": "stream",
          "name": "stdout",
          "text": [
            "        death_event                                             \n",
            "              count      mean       std  min  25%  50%  75%  max\n",
            "anaemia                                                         \n",
            "0             170.0  0.294118  0.456991  0.0  0.0  0.0  1.0  1.0\n",
            "1             129.0  0.356589  0.480859  0.0  0.0  0.0  1.0  1.0\n",
            "         death_event                                             \n",
            "               count      mean       std  min  25%  50%  75%  max\n",
            "diabetes                                                         \n",
            "0              174.0  0.321839  0.468530  0.0  0.0  0.0  1.0  1.0\n",
            "1              125.0  0.320000  0.468353  0.0  0.0  0.0  1.0  1.0\n",
            "    death_event                                             \n",
            "          count      mean       std  min  25%  50%  75%  max\n",
            "sex                                                         \n",
            "0         105.0  0.323810  0.470173  0.0  0.0  0.0  1.0  1.0\n",
            "1         194.0  0.319588  0.467523  0.0  0.0  0.0  1.0  1.0\n",
            "                    death_event                                             \n",
            "                          count      mean       std  min  25%  50%  75%  max\n",
            "high_blood_pressure                                                         \n",
            "0                         194.0  0.293814  0.456687  0.0  0.0  0.0  1.0  1.0\n",
            "1                         105.0  0.371429  0.485504  0.0  0.0  0.0  1.0  1.0\n",
            "        death_event                                             \n",
            "              count      mean       std  min  25%  50%  75%  max\n",
            "smoking                                                         \n",
            "0             203.0  0.325123  0.469579  0.0  0.0  0.0  1.0  1.0\n",
            "1              96.0  0.312500  0.465946  0.0  0.0  0.0  1.0  1.0\n"
          ]
        }
      ]
    },
    {
      "cell_type": "markdown",
      "source": [
        "Looking at the above variable summaries, anaemia and high blood pressure seem to be the only two variables that show a difference in the mean proportion of death events. The mean proportions of death events for high blood pressure is 0.37 versus 0.29, which is a notable difference. The mean proportion of death events for anaemia are 0.36 and 0.29. Other than high blood pressure and anaemia, the variables do not have very big differences in the mean proportions of death events, so going forward, we include high blood pressure and anaemia in our analysis."
      ],
      "metadata": {
        "id": "WhC7ky_5Sk1h"
      },
      "id": "WhC7ky_5Sk1h"
    },
    {
      "cell_type": "markdown",
      "source": [
        "4. On the basis of your answers from 2 and 3, build a matrix $X$ of the variables you think are most predictive of a death, and a variable $y$ equal to `DEATH_EVENT`."
      ],
      "metadata": {
        "id": "QcEJcIsSr5mX"
      },
      "id": "QcEJcIsSr5mX"
    },
    {
      "cell_type": "code",
      "source": [
        "# Set target variable\n",
        "y = df['death_event']\n",
        "\n",
        "# Feature matrix\n",
        "X = df.loc[:, ['age', 'ejection_fraction', 'serum_creatinine', 'high_blood_pressure', 'anaemia']]\n",
        "print(X.describe())"
      ],
      "metadata": {
        "colab": {
          "base_uri": "https://localhost:8080/"
        },
        "id": "dty-X-uoTbAy",
        "outputId": "7ba6f597-5256-4a0d-a35c-fde2c2e5a80c"
      },
      "id": "dty-X-uoTbAy",
      "execution_count": 65,
      "outputs": [
        {
          "output_type": "stream",
          "name": "stdout",
          "text": [
            "              age  ejection_fraction  serum_creatinine  high_blood_pressure  \\\n",
            "count  299.000000         299.000000         299.00000           299.000000   \n",
            "mean    60.833893          38.083612           1.39388             0.351171   \n",
            "std     11.894809          11.834841           1.03451             0.478136   \n",
            "min     40.000000          14.000000           0.50000             0.000000   \n",
            "25%     51.000000          30.000000           0.90000             0.000000   \n",
            "50%     60.000000          38.000000           1.10000             0.000000   \n",
            "75%     70.000000          45.000000           1.40000             1.000000   \n",
            "max     95.000000          80.000000           9.40000             1.000000   \n",
            "\n",
            "          anaemia  \n",
            "count  299.000000  \n",
            "mean     0.431438  \n",
            "std      0.496107  \n",
            "min      0.000000  \n",
            "25%      0.000000  \n",
            "50%      0.000000  \n",
            "75%      1.000000  \n",
            "max      1.000000  \n"
          ]
        }
      ]
    },
    {
      "cell_type": "markdown",
      "source": [
        "5. Maxmin normalize all of the variables in `X`."
      ],
      "metadata": {
        "id": "2eG4RW4gsSpL"
      },
      "id": "2eG4RW4gsSpL"
    },
    {
      "cell_type": "code",
      "source": [
        "# Maxmin normalization\n",
        "def maxmin(x):\n",
        "    u = (x-min(x))/(max(x)-min(x))\n",
        "    return(u)\n",
        "\n",
        "# Apply transformation to features\n",
        "X = X.apply(maxmin)\n",
        "print(X)"
      ],
      "metadata": {
        "colab": {
          "base_uri": "https://localhost:8080/"
        },
        "id": "VgDCjiIuUjt-",
        "outputId": "c826e2b7-f029-482b-c59a-307eaab3f5b9"
      },
      "id": "VgDCjiIuUjt-",
      "execution_count": 72,
      "outputs": [
        {
          "output_type": "stream",
          "name": "stdout",
          "text": [
            "          age  ejection_fraction  serum_creatinine  high_blood_pressure  \\\n",
            "0    0.636364           0.090909          0.157303                  1.0   \n",
            "1    0.272727           0.363636          0.067416                  0.0   \n",
            "2    0.454545           0.090909          0.089888                  0.0   \n",
            "3    0.181818           0.090909          0.157303                  0.0   \n",
            "4    0.454545           0.090909          0.247191                  0.0   \n",
            "..        ...                ...               ...                  ...   \n",
            "294  0.400000           0.363636          0.067416                  1.0   \n",
            "295  0.272727           0.363636          0.078652                  0.0   \n",
            "296  0.090909           0.696970          0.033708                  0.0   \n",
            "297  0.090909           0.363636          0.101124                  0.0   \n",
            "298  0.181818           0.469697          0.123596                  0.0   \n",
            "\n",
            "     anaemia  \n",
            "0        0.0  \n",
            "1        0.0  \n",
            "2        0.0  \n",
            "3        1.0  \n",
            "4        1.0  \n",
            "..       ...  \n",
            "294      0.0  \n",
            "295      0.0  \n",
            "296      0.0  \n",
            "297      0.0  \n",
            "298      0.0  \n",
            "\n",
            "[299 rows x 5 columns]\n"
          ]
        }
      ]
    },
    {
      "cell_type": "markdown",
      "source": [
        "6. Split the sample into ~80% for training and ~20% for evaluation. (Try to use the same train/test split for the whole question, so that you're comparing apples to apples in the questions below.)."
      ],
      "metadata": {
        "id": "Nny3siJXr0g3"
      },
      "id": "Nny3siJXr0g3"
    },
    {
      "cell_type": "code",
      "source": [
        "# Train test split\n",
        "from sklearn.model_selection import train_test_split\n",
        "\n",
        "np.random.seed(100)\n",
        "N = X.shape[0] # N = length of dataset (rows)\n",
        "all = np.arange(1, N) # Creates an array of all indices in the data set, 1 to N-1\n",
        "train = np.random.choice(N, int(0.8*N)) # Generate random indices for train#\n",
        "test = [item for item in all if item not in train] # Identify test indices (indices not in train set)\n",
        "\n",
        "X_train = X.iloc[train,:]\n",
        "y_train = y.iloc[train]\n",
        "X_test = X.iloc[test,:]\n",
        "y_test = y.iloc[test]\n",
        "# print(X_train.shape, y_train.shape, X_test.shape, y_test.shape)"
      ],
      "metadata": {
        "colab": {
          "base_uri": "https://localhost:8080/"
        },
        "id": "a0uSCdUXUz_T",
        "outputId": "042bb028-d007-4758-a9ab-a0816d829231"
      },
      "id": "a0uSCdUXUz_T",
      "execution_count": 74,
      "outputs": [
        {
          "output_type": "stream",
          "name": "stdout",
          "text": [
            "299\n",
            "[  8 280  79  53  66 226  14 290 240 280 143 228  58 137  93  86 155 141\n",
            " 245 211 100   4  91 135  49 193 270 183 251   2 105  63 181 283 238 167\n",
            " 294 172 274 192 202 273  72  13 106  30  17  53  68 181   0  13 185 131\n",
            "  70 131 212 207 215 131 176 180  36 261  38 214  94 226 170  95 114 237\n",
            " 119  76 289 102 256 250 183 226 196 253   9 277 262 165 122 116 186 295\n",
            " 107 222 286  66 243 273  89 291  16  12 109  67 220 223 276 138 264 200\n",
            " 146  92  44 245  57 256  73 232 182 144  34 182  77 212  14 289 148 168\n",
            "  24 284 210 135   2  63 130 215 145 237 218 250 224  74 286  67 156  82\n",
            " 141  81 281 194 143 122  11 101  38 278  87 179 242 181 145 193 298 172\n",
            " 144 182 183  83  42 248 246 293 112 208 113 258  16  70 224 177 162 131\n",
            " 139 285 292  52 164 201  85  92 115 211 119  71  93 292 123  42 269  32\n",
            " 294 296 181  93  38 116 214 165 128 187 297 204 141  87  65 182 128  83\n",
            " 266 233 130 215 204  39 246 292 291  99  26 147 132  39 215  74 161 143\n",
            " 145 151 234  59   8]\n",
            "(239, 5) (239,) (130, 5) (130,)\n"
          ]
        }
      ]
    },
    {
      "cell_type": "markdown",
      "source": [
        "7. Determine the optimal number of neighbors for a $k$NN regression for the variables you selected."
      ],
      "metadata": {
        "id": "FtnvP1tkrrQ5"
      },
      "id": "FtnvP1tkrrQ5"
    },
    {
      "cell_type": "code",
      "source": [
        "from sklearn.neighbors import KNeighborsRegressor"
      ],
      "metadata": {
        "id": "tJiGLN-2tpeQ"
      },
      "id": "tJiGLN-2tpeQ",
      "execution_count": 68,
      "outputs": []
    },
    {
      "cell_type": "code",
      "source": [
        "# Determine the optimal k\n",
        "k_bar = 25 # Number of k's to try\n",
        "k_grid = np.arange(1, k_bar) # Range of k's to consider\n",
        "SSE = np.zeros(k_bar) # Store the SSE\n",
        "#SSE_on_train = np.zeros(k_bar)\n",
        "\n",
        "for k in range(k_bar):\n",
        "    model = KNeighborsRegressor(n_neighbors=k+1) # Create model\n",
        "    predictor = model.fit(X_train,y_train) # Train model\n",
        "    y_hat = model.predict(X_test) # Make predictions\n",
        "    SSE[k] = np.sum((y_test-y_hat)**2) # Calculate SSE for each k\n",
        "\n",
        "SSE_min = np.min(SSE) # highest recorded accuracy\n",
        "min_index = np.where(SSE==SSE_min)\n",
        "k_star = k_grid[min_index] # Optimal k\n",
        "print(\"The optimal value of k is: \", k_star)"
      ],
      "metadata": {
        "colab": {
          "base_uri": "https://localhost:8080/"
        },
        "id": "qHdQzj3sufkH",
        "outputId": "04a790c3-2f25-44a2-e4d6-bdef597f00e4"
      },
      "id": "qHdQzj3sufkH",
      "execution_count": 75,
      "outputs": [
        {
          "output_type": "stream",
          "name": "stdout",
          "text": [
            "The optimal value of k is:  [6]\n"
          ]
        }
      ]
    },
    {
      "cell_type": "code",
      "source": [
        "# Make the SSE plot\n",
        "plt.plot(np.arange(0,k_bar),SSE) # Plot accuracy by k\n",
        "plt.xlabel(\"k\")\n",
        "plt.title(\"optimal k:\"+str(k_star)+', SSE:'+str(SSE_min))\n",
        "plt.ylabel('SSE')\n",
        "plt.show()\n",
        "# optimal k = 6"
      ],
      "metadata": {
        "colab": {
          "base_uri": "https://localhost:8080/",
          "height": 472
        },
        "id": "D5akBgy0x7Sa",
        "outputId": "3f86bab3-c4c5-4605-f8d7-d6f3aa29593b"
      },
      "id": "D5akBgy0x7Sa",
      "execution_count": 76,
      "outputs": [
        {
          "output_type": "display_data",
          "data": {
            "text/plain": [
              "<Figure size 640x480 with 1 Axes>"
            ],
            "image/png": "[encoded data removed]"
          },
          "metadata": {}
        }
      ]
    },
    {
      "cell_type": "markdown",
      "source": [
        "8. OK, do steps 5 through 7 again, but use all of the variables (except `time`). Which model has a lower Sum of Squared Error? Which would you prefer to use in practice, if you had to predict `DEATH_EVENT`s? If you play with the selection of variables, how much does the SSE change for your fitted model on the test data? Are more variables always better? Explain your findings."
      ],
      "metadata": {
        "id": "hkWEhDoZyMup"
      },
      "id": "hkWEhDoZyMup"
    },
    {
      "cell_type": "code",
      "source": [
        "# Set target and feature variables\n",
        "y = df[\"death_event\"]\n",
        "X = df.loc[:, df.columns != 'death_event']\n",
        "# X.columns\n",
        "\n",
        "# Feature matrix\n",
        "# print(\"Feature Matrix: \", \"\\n\", X.describe())\n",
        "\n",
        "# Normalize the values\n",
        "X = X.apply(maxmin)\n",
        "\n",
        "# Split the data\n",
        "np.random.seed(100)\n",
        "N = X.shape[0] # N = length of dataset (rows)\n",
        "all = np.arange(1, N) # Creates an array of all indices in the data set, 1 to N-1\n",
        "train = np.random.choice(N, int(0.8*N)) # Generate random indices for train#\n",
        "test = [item for item in all if item not in train] # Identify test indices (indices not in train set)\n",
        "\n",
        "X_train = X.iloc[train,:]\n",
        "y_train = y.iloc[train]\n",
        "X_test = X.iloc[test,:]\n",
        "y_test = y.iloc[test]\n",
        "# print(X_train.shape, y_train.shape, X_test.shape, y_test.shape)\n",
        "# Sanity check\n",
        "\n",
        "# Find optimal k and SSE\n",
        "k_bar = 25\n",
        "k_grid = np.arange(1, k_bar)\n",
        "SSE = np.zeros(k_bar)\n",
        "\n",
        "for k in range(k_bar):\n",
        "    model = KNeighborsRegressor(n_neighbors=k+1) # Create model\n",
        "    predictor = model.fit(X_train,y_train) # Train model\n",
        "    y_hat = model.predict(X_test) # Make predictions\n",
        "    SSE[k] = np.sum((y_test-y_hat)**2) # Calculate SSE for each k\n",
        "\n",
        "SSE_min = np.min(SSE) # highest recorded accuracy\n",
        "min_index = np.where(SSE==SSE_min)\n",
        "k_star = k_grid[min_index] # Optimal k\n",
        "print(\"The optimal value of k is\", k_star, \"\\n\", \"The SSE is\", round(SSE_min, 4))"
      ],
      "metadata": {
        "colab": {
          "base_uri": "https://localhost:8080/"
        },
        "id": "RFXGUhhkyPbb",
        "outputId": "fe7c2826-8dd2-402f-de7e-2f434d614f19"
      },
      "id": "RFXGUhhkyPbb",
      "execution_count": 92,
      "outputs": [
        {
          "output_type": "stream",
          "name": "stdout",
          "text": [
            "The optimal value of k is [23] \n",
            " The SSE is 27.3535\n"
          ]
        }
      ]
    },
    {
      "cell_type": "markdown",
      "source": [
        "The first model without all the variables has lower sum of squared error. However, if I had to use one of the two models in practice, I would use the second model. Even though the second model has a higher SSE, it includes more predictor variables, which is important given that we're working with health data and predicting the event of death. Though the first model is better statistically, the second model is better in a real-world context given the nature of our data."
      ],
      "metadata": {
        "id": "gG0lGaD30eG2"
      },
      "id": "gG0lGaD30eG2"
    },
    {
      "cell_type": "code",
      "source": [
        "# Testing out different variables\n",
        "\n",
        "# Using the three most highly correlated variables to death_event\n",
        "y = df['death_event']\n",
        "X = df.loc[:, ['age', 'ejection_fraction', 'serum_creatinine']]\n",
        "X = X.apply(maxmin)\n",
        "\n",
        "np.random.seed(100)\n",
        "N = X.shape[0]\n",
        "all = np.arange(1, N)\n",
        "train = np.random.choice(N, int(0.8*N))\n",
        "test = [item for item in all if item not in train]\n",
        "X_train = X.iloc[train,:]\n",
        "y_train = y.iloc[train]\n",
        "X_test = X.iloc[test,:]\n",
        "y_test = y.iloc[test]\n",
        "\n",
        "k_bar = 25\n",
        "k_grid = np.arange(1, k_bar)\n",
        "SSE = np.zeros(k_bar)\n",
        "for k in range(k_bar):\n",
        "    model = KNeighborsRegressor(n_neighbors=k+1) # Create model\n",
        "    predictor = model.fit(X_train,y_train) # Train model\n",
        "    y_hat = model.predict(X_test) # Make predictions\n",
        "    SSE[k] = np.sum((y_test-y_hat)**2) # Calculate SSE for each k\n",
        "\n",
        "SSE_min = np.min(SSE) # highest recorded accuracy\n",
        "min_index = np.where(SSE==SSE_min)\n",
        "k_star = k_grid[min_index] # Optimal k\n",
        "print(\"The optimal value of k is\", k_star, \"\\n\", \"The SSE is\", round(SSE_min, 4))"
      ],
      "metadata": {
        "colab": {
          "base_uri": "https://localhost:8080/"
        },
        "id": "zCWpIsa418WI",
        "outputId": "233699aa-9656-4603-961d-44c8543c6304"
      },
      "id": "zCWpIsa418WI",
      "execution_count": 94,
      "outputs": [
        {
          "output_type": "stream",
          "name": "stdout",
          "text": [
            "The optimal value of k is [23] \n",
            " The SSE is 23.9679\n"
          ]
        }
      ]
    },
    {
      "cell_type": "code",
      "source": [
        "# Using the four least highly correlated values\n",
        "y = df['death_event']\n",
        "X = df.loc[:, ['diabetes', 'sex', 'smoking', 'platelets']]\n",
        "X = X.apply(maxmin)\n",
        "\n",
        "np.random.seed(100)\n",
        "N = X.shape[0]\n",
        "all = np.arange(1, N)\n",
        "train = np.random.choice(N, int(0.8*N))\n",
        "test = [item for item in all if item not in train]\n",
        "X_train = X.iloc[train,:]\n",
        "y_train = y.iloc[train]\n",
        "X_test = X.iloc[test,:]\n",
        "y_test = y.iloc[test]\n",
        "\n",
        "k_bar = 25\n",
        "k_grid = np.arange(1, k_bar)\n",
        "SSE = np.zeros(k_bar)\n",
        "for k in range(k_bar):\n",
        "    model = KNeighborsRegressor(n_neighbors=k+1) # Create model\n",
        "    predictor = model.fit(X_train,y_train) # Train model\n",
        "    y_hat = model.predict(X_test) # Make predictions\n",
        "    SSE[k] = np.sum((y_test-y_hat)**2) # Calculate SSE for each k\n",
        "\n",
        "SSE_min = np.min(SSE) # highest recorded accuracy\n",
        "min_index = np.where(SSE==SSE_min)\n",
        "k_star = k_grid[min_index] # Optimal k\n",
        "print(\"The optimal value of k is\", k_star, \"\\n\", \"The SSE is\", round(SSE_min, 4))"
      ],
      "metadata": {
        "colab": {
          "base_uri": "https://localhost:8080/"
        },
        "id": "2C1rTwf03E3w",
        "outputId": "47596a5c-bc53-4d07-eb7b-7d20cd118a43"
      },
      "id": "2C1rTwf03E3w",
      "execution_count": 95,
      "outputs": [
        {
          "output_type": "stream",
          "name": "stdout",
          "text": [
            "The optimal value of k is [23] \n",
            " The SSE is 29.138\n"
          ]
        }
      ]
    },
    {
      "cell_type": "code",
      "source": [
        "# Using just age as a predictor\n",
        "y = df['death_event']\n",
        "X = df.loc[:, ['age']]\n",
        "X = X.apply(maxmin)\n",
        "\n",
        "np.random.seed(100)\n",
        "N = X.shape[0]\n",
        "all = np.arange(1, N)\n",
        "train = np.random.choice(N, int(0.8*N))\n",
        "test = [item for item in all if item not in train]\n",
        "X_train = X.iloc[train,:]\n",
        "y_train = y.iloc[train]\n",
        "X_test = X.iloc[test,:]\n",
        "y_test = y.iloc[test]\n",
        "\n",
        "k_bar = 25\n",
        "k_grid = np.arange(1, k_bar)\n",
        "SSE = np.zeros(k_bar)\n",
        "for k in range(k_bar):\n",
        "    model = KNeighborsRegressor(n_neighbors=k+1) # Create model\n",
        "    predictor = model.fit(X_train,y_train) # Train model\n",
        "    y_hat = model.predict(X_test) # Make predictions\n",
        "    SSE[k] = np.sum((y_test-y_hat)**2) # Calculate SSE for each k\n",
        "\n",
        "SSE_min = np.min(SSE) # highest recorded accuracy\n",
        "min_index = np.where(SSE==SSE_min)\n",
        "k_star = k_grid[min_index] # Optimal k\n",
        "print(\"The optimal value of k is\", k_star, \"\\n\", \"The SSE is\", round(SSE_min, 4))"
      ],
      "metadata": {
        "colab": {
          "base_uri": "https://localhost:8080/"
        },
        "id": "3ezQ1jcy3blK",
        "outputId": "d3ca4623-e588-491d-ee07-c0de1ac4c92b"
      },
      "id": "3ezQ1jcy3blK",
      "execution_count": 96,
      "outputs": [
        {
          "output_type": "stream",
          "name": "stdout",
          "text": [
            "The optimal value of k is [19] \n",
            " The SSE is 28.4626\n"
          ]
        }
      ]
    },
    {
      "cell_type": "markdown",
      "source": [
        "As the number of predictor variables used increases, k and SSE increases. When I trained the model using the three most highly correlated variables to death event, k decreased from 26 (model with all variables) to 23. The SSE also decreased from 27.3535 to 23.9679. When I trained the model usinf the four least highly correlated values, the k remained the same at 23, but the SSE increased to 29.138. To further test the relationship between predictor variables, k, and SSE, I trained the model with just one variable, age, which has an obvious relationship with death event. This resulted in the lowest k, 19, but a high SSE, 28.4626. This shows that more variables are *not* always better, as using only values with low correlation with the target variable increases SSE and decreases accuracy. However, you don't want to use too few variables either. To train the \"best\" kNN model, you have to balance using the correct number of predictor variables and using statistically significant variables."
      ],
      "metadata": {
        "id": "_r4XMTkw9K94"
      },
      "id": "_r4XMTkw9K94"
    },
    {
      "cell_type": "markdown",
      "id": "d457e190-d273-455f-b94f-62916cb5af1c",
      "metadata": {
        "id": "d457e190-d273-455f-b94f-62916cb5af1c"
      },
      "source": [
        "**Q3.** Let's do some very basic computer vision. We're going to import the MNIST handwritten digits data and $k$NN to predict values (i.e. \"see/read\").\n",
        "\n",
        "1. To load the data, run the following code in a chunk:\n",
        "```\n",
        "from keras.datasets import mnist\n",
        "df = mnist.load_data('minst.db')\n",
        "train,test = df\n",
        "X_train, y_train = train\n",
        "X_test, y_test = test\n",
        "```\n",
        "The `y_test` and `y_train` vectors, for each index `i`, tell you want number is written in the corresponding index in `X_train[i]` and `X_test[i]`. The value of `X_train[i]` and `X_test[i]`, however, is a 28$\\times$28 array whose entries contain values between 0 and 256. Each element of the matrix is essentially a \"pixel\" and the matrix encodes a representation of a number. To visualize this, run the following code to see the first ten numbers:\n",
        "```\n",
        "import matplotlib.pyplot as plt\n",
        "import numpy as np\n",
        "np.set_printoptions(edgeitems=30, linewidth=100000)\n",
        "for i in range(5):\n",
        "    print(y_test[i],'\\n') # Print the label\n",
        "    print(X_test[i],'\\n') # Print the matrix of values\n",
        "    plt.contourf(np.rot90(X_test[i].transpose())) # Make a contour plot of the matrix values\n",
        "    plt.show()\n",
        "```\n",
        "OK, those are the data: Labels attached to handwritten digits encoded as a matrix.\n",
        "\n",
        "2. What is the shape of `X_train` and `X_test`? What is the shape of `X_train[i]` and `X_test[i]` for each index `i`? What is the shape of `y_train` and `y_test`?\n",
        "3. Use Numpy's `.reshape()` method to covert the training and testing data from a matrix into an vector of features. So, `X_test[index].reshape((1,784))` will convert the $index$-th element of `X_test` into a $28\\times 28=784$-length row vector of values, rather than a matrix. Turn `X_train` into an $N \\times 784$ matrix $X$ that is suitable for scikit-learn's kNN classifier where $N$ is the number of observations and $784=28*28$ (you could use, for example, a `for` loop).\n",
        "4. Use the reshaped `X_test` and `y_test` data to create a $k$-nearest neighbor classifier of digit. What is the optimal number of neighbors $k$? If you can't determine this, play around with different values of $k$ for your classifier.\n",
        "5. For the optimal number of neighbors, how well does your predictor perform on the test set?\n",
        "6. So, this is how computers \"see.\" They convert an image into a matrix of values, that matrix becomes a vector in a dataset, and then we deploy ML tools on it as if it was any other kind of tabular data. To make sure you follow this, invent a way to represent a color photo in matrix form, and then describe how you could convert it into tabular data. (Hint: RGB color codes provide a method of encoding a numeric value that represents a color.)"
      ]
    }
  ],
  "metadata": {
    "kernelspec": {
      "display_name": "Python 3 (ipykernel)",
      "language": "python",
      "name": "python3"
    },
    "language_info": {
      "codemirror_mode": {
        "name": "ipython",
        "version": 3
      },
      "file_extension": ".py",
      "mimetype": "text/x-python",
      "name": "python",
      "nbconvert_exporter": "python",
      "pygments_lexer": "ipython3",
      "version": "3.10.4"
    },
    "colab": {
      "provenance": []
    }
  },
  "nbformat": 4,
  "nbformat_minor": 5
}